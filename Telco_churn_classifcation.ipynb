{
 "cells": [
  {
   "cell_type": "markdown",
   "metadata": {},
   "source": [
    "## Telco Customer Churn"
   ]
  },
  {
   "cell_type": "markdown",
   "metadata": {},
   "source": [
    "The goal of this project is to predict if a customer would churn or not. It would help the company retain customers. Dataset is obtained from kaggle https://www.kaggle.com/blastchar/telco-customer-churn"
   ]
  },
  {
   "cell_type": "code",
   "execution_count": 12,
   "metadata": {},
   "outputs": [],
   "source": [
    "import pandas as pd\n",
    "import matplotlib.pyplot as plt\n",
    "import seaborn as sns"
   ]
  },
  {
   "cell_type": "code",
   "execution_count": 13,
   "metadata": {},
   "outputs": [],
   "source": [
    "data = pd.read_csv('telco-customer-churn/WA_Fn-UseC_-Telco-Customer-Churn.csv',\n",
    "                   na_values=['', '#N/A', '#N/A N/A', '#NA', '-1.#IND', '-1.#QNAN', '-NaN', '-nan', '1.#IND', '1.#QNAN', 'N/A', 'NULL', 'NaN', 'n/a', 'nan', 'null',' ','NA'],keep_default_na=False)"
   ]
  },
  {
   "cell_type": "code",
   "execution_count": 14,
   "metadata": {},
   "outputs": [],
   "source": [
    "data['TotalCharges'] = pd.to_numeric(data['TotalCharges'])"
   ]
  },
  {
   "cell_type": "code",
   "execution_count": 15,
   "metadata": {},
   "outputs": [],
   "source": [
    "data['SeniorCitizen'] = data['SeniorCitizen'].astype(object)"
   ]
  },
  {
   "cell_type": "code",
   "execution_count": 16,
   "metadata": {},
   "outputs": [],
   "source": [
    "cont = data.select_dtypes(exclude=['object'])"
   ]
  },
  {
   "cell_type": "markdown",
   "metadata": {},
   "source": [
    "### Visualization"
   ]
  },
  {
   "cell_type": "markdown",
   "metadata": {},
   "source": [
    "Following is the visualization of the distribution continuous features. There are peaks in all the three variables."
   ]
  },
  {
   "cell_type": "code",
   "execution_count": 17,
   "metadata": {},
   "outputs": [
    {
     "data": {
      "text/plain": [
       "array([[<matplotlib.axes._subplots.AxesSubplot object at 0x00000294C505AB70>,\n",
       "        <matplotlib.axes._subplots.AxesSubplot object at 0x00000294C3627DA0>],\n",
       "       [<matplotlib.axes._subplots.AxesSubplot object at 0x00000294C3665048>,\n",
       "        <matplotlib.axes._subplots.AxesSubplot object at 0x00000294C5DA22B0>]],\n",
       "      dtype=object)"
      ]
     },
     "execution_count": 17,
     "metadata": {},
     "output_type": "execute_result"
    },
    {
     "data": {
      "image/png": "[encoded data removed]",
      "text/plain": [
       "<Figure size 432x288 with 4 Axes>"
      ]
     },
     "metadata": {
      "needs_background": "light"
     },
     "output_type": "display_data"
    }
   ],
   "source": [
    "cont.hist()"
   ]
  },
  {
   "cell_type": "code",
   "execution_count": 18,
   "metadata": {},
   "outputs": [
    {
     "data": {
      "image/png": "[encoded data removed]",
      "text/plain": [
       "<Figure size 432x288 with 1 Axes>"
      ]
     },
     "metadata": {
      "needs_background": "light"
     },
     "output_type": "display_data"
    }
   ],
   "source": [
    "import seaborn as sns\n",
    "fig , ax = plt.subplots(figsize=(6,4))\n",
    "sns.countplot(x='Churn', data=data)\n",
    "plt.title(\"Count of churned\")\n",
    "plt.show()"
   ]
  },
  {
   "cell_type": "markdown",
   "metadata": {},
   "source": [
    "The above is the distribution of the target variable. It is seen that the dataset is imbalanced. 73% of the data consists of \"Yes\" category and 26% consists of \"No\" category."
   ]
  },
  {
   "cell_type": "code",
   "execution_count": 8,
   "metadata": {},
   "outputs": [
    {
     "name": "stdout",
     "output_type": "stream",
     "text": [
      "% churn train dataset:  73.46301292063042\n",
      "% no churn in train dataset:  26.536987079369588\n"
     ]
    }
   ],
   "source": [
    "n=len(data)\n",
    "app_0=len(data[data['Churn']=='Yes'])\n",
    "app_1=len(data[data['Churn']=='No'])\n",
    "\n",
    "print(\"% churn train dataset: \",app_1*100/n)\n",
    "print(\"% no churn in train dataset: \",app_0*100/n)"
   ]
  },
  {
   "cell_type": "code",
   "execution_count": 7,
   "metadata": {},
   "outputs": [],
   "source": [
    "data_y = data[['Churn']]\n",
    "data_x = data.drop(columns=['Churn','customerID'])"
   ]
  },
  {
   "cell_type": "markdown",
   "metadata": {},
   "source": [
    "### Splitting data in train and test set"
   ]
  },
  {
   "cell_type": "code",
   "execution_count": 28,
   "metadata": {},
   "outputs": [],
   "source": [
    "from sklearn.model_selection import train_test_split\n",
    "\n",
    "X_train, X_test, y_train, y_test = train_test_split(data_x, data_y)"
   ]
  },
  {
   "cell_type": "markdown",
   "metadata": {},
   "source": [
    "The following code runs 3 models - Logistic regression, SVC and Nearest Centroid using pipeline. "
   ]
  },
  {
   "cell_type": "code",
   "execution_count": 29,
   "metadata": {},
   "outputs": [],
   "source": [
    "from sklearn.compose import make_column_transformer\n",
    "from sklearn.pipeline import make_pipeline\n",
    "from sklearn.svm import LinearSVC\n",
    "from sklearn.linear_model import LogisticRegression\n",
    "from sklearn.preprocessing import OneHotEncoder\n",
    "from sklearn.model_selection import cross_val_score\n",
    "from sklearn.neighbors import NearestCentroid\n",
    "from sklearn.impute import SimpleImputer\n",
    "import numpy as np\n",
    "\n",
    "\n",
    "import warnings\n",
    "with warnings.catch_warnings():\n",
    "    warnings.simplefilter(\"ignore\")\n",
    "    categorical = X_train.dtypes == object\n",
    "\n",
    "    preprocess = make_column_transformer((SimpleImputer(strategy='mean',missing_values=np.nan),\n",
    "                                          ~categorical),\n",
    "                                         (OneHotEncoder(handle_unknown='ignore'),categorical),\n",
    "                                         remainder='passthrough')\n",
    "    pipe_lr = make_pipeline(preprocess,LogisticRegression())\n",
    "    pipe_svc = make_pipeline(preprocess,LinearSVC())\n",
    "    pipe_nc = make_pipeline(preprocess,NearestCentroid())\n",
    "    scores_lr = cross_val_score(pipe_lr, X_train, y_train)\n",
    "    scores_svc = cross_val_score(pipe_svc, X_train, y_train)\n",
    "    scores_nc = cross_val_score(pipe_nc, X_train, y_train)"
   ]
  },
  {
   "cell_type": "code",
   "execution_count": 31,
   "metadata": {},
   "outputs": [
    {
     "name": "stdout",
     "output_type": "stream",
     "text": [
      "logistic regression mean accuracy : 0.8048111007863988\n",
      "SVC mean accuracy : 0.7826580326260905\n",
      "Nearest centroid mean accuracy : 0.5223375148417737\n"
     ]
    }
   ],
   "source": [
    "print(\"logistic regression mean accuracy : \" + str(scores_lr.mean()))\n",
    "print(\"SVC mean accuracy : \" + str(scores_svc.mean()))\n",
    "print(\"Nearest centroid mean accuracy : \" + str(scores_nc.mean()))"
   ]
  },
  {
   "cell_type": "markdown",
   "metadata": {},
   "source": [
    "From the above, it is seen that logistic regression performs in par with the linear SVC. Nearest centroid method is the least performing one among the three."
   ]
  },
  {
   "cell_type": "markdown",
   "metadata": {},
   "source": [
    "Let us try scaling the continuous variables and evaluate the models."
   ]
  },
  {
   "cell_type": "code",
   "execution_count": 32,
   "metadata": {},
   "outputs": [],
   "source": [
    "from sklearn.preprocessing import StandardScaler\n",
    "from sklearn.pipeline import Pipeline\n",
    "from sklearn.compose import ColumnTransformer\n",
    "import warnings\n",
    "with warnings.catch_warnings():\n",
    "    warnings.simplefilter(\"ignore\")\n",
    "    categorical = X_train.dtypes == object\n",
    "\n",
    "\n",
    "    pipe_cont = make_pipeline(SimpleImputer(strategy='mean',missing_values=np.nan),\n",
    "                                         (StandardScaler()))\n",
    "    \n",
    "    preprocess = make_column_transformer((pipe_cont,~categorical),\n",
    "                                         (OneHotEncoder(handle_unknown='ignore'),categorical),\n",
    "                                         remainder='passthrough')\n",
    "    \n",
    "    pipe_lr = make_pipeline(preprocess,LogisticRegression())\n",
    "    pipe_svc = make_pipeline(preprocess,StandardScaler(),LinearSVC())\n",
    "    pipe_nc = make_pipeline(preprocess,StandardScaler(),NearestCentroid())\n",
    "    scores_lr = cross_val_score(pipe_lr, X_train, y_train)\n",
    "    scores_svc = cross_val_score(pipe_svc, X_train, y_train)\n",
    "    scores_nc = cross_val_score(pipe_nc, X_train, y_train)"
   ]
  },
  {
   "cell_type": "code",
   "execution_count": 33,
   "metadata": {},
   "outputs": [
    {
     "name": "stdout",
     "output_type": "stream",
     "text": [
      "logistic regression mean score : 0.8046222445924319\n",
      "SVC mean score : 0.8029183444323991\n",
      "Nearest centroid mean score : 0.709014226593017\n"
     ]
    }
   ],
   "source": [
    "print(\"logistic regression mean score : \" + str(scores_lr.mean()))\n",
    "print(\"SVC mean score : \" + str(scores_svc.mean()))\n",
    "print(\"Nearest centroid mean score : \" + str(scores_nc.mean()))"
   ]
  },
  {
   "cell_type": "markdown",
   "metadata": {},
   "source": [
    "Scaling continuous variables has a huge impact in the performance of SVC and nearest centroid. The score improved from 0.52 to 0.70 in nearest centroid and for SVC it improved from 0.71 to 0.80. This is because, distance-based algorithms likes SVC and nearest centroid need features to be scaled so that distance is uniformly computed."
   ]
  },
  {
   "cell_type": "markdown",
   "metadata": {},
   "source": [
    "### Tuning hyper parameters"
   ]
  },
  {
   "cell_type": "code",
   "execution_count": 34,
   "metadata": {},
   "outputs": [],
   "source": [
    "from sklearn.model_selection import GridSearchCV\n",
    "import numpy as np\n",
    "from sklearn.svm import LinearSVC\n",
    "from sklearn.linear_model import LogisticRegression\n",
    "\n",
    "with warnings.catch_warnings():\n",
    "    warnings.simplefilter(\"ignore\")\n",
    "    categorical = X_train.dtypes == object\n",
    "    pipe_cont = make_pipeline(SimpleImputer(strategy='mean'),\n",
    "                                         (StandardScaler()))\n",
    "    \n",
    "    preprocess = make_column_transformer((pipe_cont,~categorical),\n",
    "                                         (OneHotEncoder(handle_unknown='ignore',sparse=False),categorical),\n",
    "                                         remainder='passthrough')\n",
    "    param_lsvc = {'linearsvc__C': np.logspace(-3, 2, 6)}\n",
    "    param_lr = {'logisticregression__C': [0.001, 0.01, 0.1, 1, 10, 100, 1000] }\n",
    "    param_nc = {'nearestcentroid__shrink_threshold': [1,10,100,1000]}\n",
    "    \n",
    "    gs_lsvc = GridSearchCV(estimator=make_pipeline(preprocess,LinearSVC()),\n",
    "                           param_grid=param_lsvc)\n",
    "    gs_lsvc.fit(X_train,y_train)\n",
    "    gs_lr = GridSearchCV(estimator=make_pipeline(preprocess,LogisticRegression()),\n",
    "                         param_grid=param_lr)\n",
    "    gs_lr.fit(X_train,y_train)\n",
    "    gs_nc = GridSearchCV(estimator=make_pipeline(preprocess,NearestCentroid()),\n",
    "                         param_grid=param_nc)\n",
    "    gs_nc.fit(X_train,y_train)\n"
   ]
  },
  {
   "cell_type": "code",
   "execution_count": 35,
   "metadata": {},
   "outputs": [
    {
     "name": "stdout",
     "output_type": "stream",
     "text": [
      "{'linearsvc__C': 1.0}\n",
      "0.8032942067398713\n",
      "{'logisticregression__C': 1}\n",
      "0.8046194623248769\n",
      "{'nearestcentroid__shrink_threshold': 1}\n",
      "0.7321090496024233\n"
     ]
    }
   ],
   "source": [
    "print(gs_lsvc.best_params_)\n",
    "print(gs_lsvc.best_score_)\n",
    "print(gs_lr.best_params_)\n",
    "print(gs_lr.best_score_)\n",
    "print(gs_nc.best_params_)\n",
    "print(gs_nc.best_score_)"
   ]
  },
  {
   "cell_type": "markdown",
   "metadata": {},
   "source": [
    "Hyper parameter tuning improved nearest centroid accuracy from 0.70 to 0.73. Otherwise, there is no big change in the performances."
   ]
  },
  {
   "cell_type": "markdown",
   "metadata": {},
   "source": [
    "Visualize performance as a function of parameters"
   ]
  },
  {
   "cell_type": "code",
   "execution_count": 36,
   "metadata": {},
   "outputs": [],
   "source": [
    "with warnings.catch_warnings():\n",
    "    warnings.simplefilter(\"ignore\")\n",
    "\n",
    "    results_lsvc = pd.DataFrame(gs_lsvc.cv_results_)\n",
    "    results_lr = pd.DataFrame(gs_lr.cv_results_)\n",
    "    results_nc = pd.DataFrame(gs_nc.cv_results_)"
   ]
  },
  {
   "cell_type": "code",
   "execution_count": 37,
   "metadata": {},
   "outputs": [
    {
     "data": {
      "text/plain": [
       "Text(0, 0.5, 'Score')"
      ]
     },
     "execution_count": 37,
     "metadata": {},
     "output_type": "execute_result"
    },
    {
     "data": {
      "image/png": "[encoded data removed]",
      "text/plain": [
       "<Figure size 432x288 with 1 Axes>"
      ]
     },
     "metadata": {
      "needs_background": "light"
     },
     "output_type": "display_data"
    }
   ],
   "source": [
    "plt.plot(np.logspace(-3, 2, 6),results_lsvc[['mean_test_score']])\n",
    "plt.title(\"C vs score for linear SVM\")\n",
    "plt.xlabel(\"C\")\n",
    "plt.ylabel(\"Score\")"
   ]
  },
  {
   "cell_type": "code",
   "execution_count": 38,
   "metadata": {},
   "outputs": [
    {
     "data": {
      "text/plain": [
       "Text(0, 0.5, 'Score')"
      ]
     },
     "execution_count": 38,
     "metadata": {},
     "output_type": "execute_result"
    },
    {
     "data": {
      "image/png": "[encoded data removed]",
      "text/plain": [
       "<Figure size 432x288 with 1 Axes>"
      ]
     },
     "metadata": {
      "needs_background": "light"
     },
     "output_type": "display_data"
    }
   ],
   "source": [
    "plt.plot([0.001, 0.01, 0.1, 1, 10, 100, 1000],results_lr[['mean_test_score']])\n",
    "plt.title(\"C vs score for logistic regression\")\n",
    "plt.xlabel(\"C\")\n",
    "plt.ylabel(\"Score\")"
   ]
  },
  {
   "cell_type": "code",
   "execution_count": 39,
   "metadata": {},
   "outputs": [
    {
     "data": {
      "text/plain": [
       "Text(0, 0.5, 'Score')"
      ]
     },
     "execution_count": 39,
     "metadata": {},
     "output_type": "execute_result"
    },
    {
     "data": {
      "image/png": "[encoded data removed]",
      "text/plain": [
       "<Figure size 432x288 with 1 Axes>"
      ]
     },
     "metadata": {
      "needs_background": "light"
     },
     "output_type": "display_data"
    }
   ],
   "source": [
    "plt.plot([1,10,100,1000],results_nc[['mean_test_score']])\n",
    "plt.title(\"C vs score for nearest centroid\")\n",
    "plt.xlabel(\"C\")\n",
    "plt.ylabel(\"Score\")"
   ]
  },
  {
   "cell_type": "markdown",
   "metadata": {},
   "source": [
    "On tuning with grid search CV, I don't find any improvement in the model. The best params are\n",
    "Linear SVC C: 1.0\n",
    "Logistic regression C: 1\n",
    "nearest centroid : 1"
   ]
  },
  {
   "cell_type": "code",
   "execution_count": 42,
   "metadata": {},
   "outputs": [],
   "source": [
    "def get_model_df(best_est,coef):\n",
    "    cat_list = best_est.named_steps['columntransformer'].named_transformers_['onehotencoder'].categories_\n",
    "    flat_list = [item for cat_list in cat_list for item in cat_list]\n",
    "    cont = X_train.select_dtypes(exclude=['object'])\n",
    "    tot_col = list(cont.columns)\n",
    "    tot_col.extend(flat_list)\n",
    "    df = pd.DataFrame({'cat':tot_col,'coeff':coef[0]})\n",
    "    return df.reindex(df.coeff.abs().sort_values(ascending = False).index)"
   ]
  },
  {
   "cell_type": "code",
   "execution_count": 40,
   "metadata": {},
   "outputs": [
    {
     "name": "stdout",
     "output_type": "stream",
     "text": [
      "(1, 46)\n"
     ]
    }
   ],
   "source": [
    "svc_coeff = gs_lsvc.best_estimator_.named_steps['linearsvc'].coef_"
   ]
  },
  {
   "cell_type": "code",
   "execution_count": 48,
   "metadata": {},
   "outputs": [
    {
     "data": {
      "text/plain": [
       "Text(0, 0.5, 'coefficients')"
      ]
     },
     "execution_count": 48,
     "metadata": {},
     "output_type": "execute_result"
    },
    {
     "data": {
      "image/png": "[encoded data removed]",
      "text/plain": [
       "<Figure size 432x288 with 1 Axes>"
      ]
     },
     "metadata": {
      "needs_background": "light"
     },
     "output_type": "display_data"
    }
   ],
   "source": [
    "svc_df = get_model_df(gs_lsvc.best_estimator_,svc_coeff)\n",
    "plt.xticks(rotation=70)\n",
    "plt.bar(svc_df.iloc[:10,0],svc_df.iloc[:10,1])\n",
    "plt.title(\"Visualization of coefficients for linear SVC\")\n",
    "plt.xlabel(\"features\")\n",
    "plt.ylabel(\"coefficients\")"
   ]
  },
  {
   "cell_type": "code",
   "execution_count": 45,
   "metadata": {},
   "outputs": [
    {
     "data": {
      "text/plain": [
       "(1, 46)"
      ]
     },
     "execution_count": 45,
     "metadata": {},
     "output_type": "execute_result"
    }
   ],
   "source": [
    "lr_coeff = gs_lr.best_estimator_.named_steps['logisticregression'].coef_\n",
    "lr_coeff.shape"
   ]
  },
  {
   "cell_type": "code",
   "execution_count": 47,
   "metadata": {},
   "outputs": [
    {
     "data": {
      "text/plain": [
       "Text(0, 0.5, 'coefficients')"
      ]
     },
     "execution_count": 47,
     "metadata": {},
     "output_type": "execute_result"
    },
    {
     "data": {
      "image/png": "[encoded data removed]",
      "text/plain": [
       "<Figure size 432x288 with 1 Axes>"
      ]
     },
     "metadata": {
      "needs_background": "light"
     },
     "output_type": "display_data"
    }
   ],
   "source": [
    "log_df = get_model_df(gs_lr.best_estimator_,lr_coeff)\n",
    "plt.xticks(rotation=70)\n",
    "plt.bar(log_df.iloc[:10,0],log_df.iloc[:10,1])\n",
    "plt.title(\"Visualization of coefficients for logistic regression\")\n",
    "plt.xlabel(\"features\")\n",
    "plt.ylabel(\"coefficients\")"
   ]
  },
  {
   "cell_type": "markdown",
   "metadata": {},
   "source": [
    "The above two methods gives different importances to different features in the dataset. \"Tenure\",\"Fibre optic\" and \"DSL\" are common in both but at different weights/importances."
   ]
  },
  {
   "cell_type": "markdown",
   "metadata": {},
   "source": [
    "The following code changes the cross validation strategy to kfold with shuffling."
   ]
  },
  {
   "cell_type": "code",
   "execution_count": 49,
   "metadata": {},
   "outputs": [],
   "source": [
    "from sklearn.model_selection import KFold\n",
    "import numpy as np\n",
    "from sklearn.svm import SVC\n",
    "\n",
    "with warnings.catch_warnings():\n",
    "    warnings.simplefilter(\"ignore\")\n",
    "    #X_train, X_test, y_train, y_test = train_test_split(data_x, data_y,random_state=123)\n",
    "    categorical = X_train.dtypes == object\n",
    "    pipe_cont = make_pipeline(SimpleImputer(strategy='mean'),\n",
    "                                         (StandardScaler()))\n",
    "    scaled_lsvc = make_column_transformer((pipe_cont, ~categorical),\n",
    "                                          (OneHotEncoder(handle_unknown='ignore'),categorical),\n",
    "                                         remainder='passthrough')\n",
    "    param_lsvc = {'linearsvc__C': np.logspace(-3, 2, 6)}\n",
    "    param_lr = {'logisticregression__C': [0.001, 0.01, 0.1, 1, 10, 100, 1000] }\n",
    "    param_nc = {'nearestcentroid__shrink_threshold':[1,10,100,1000]}\n",
    "    \n",
    "    gs_lsvc = GridSearchCV(estimator=make_pipeline(scaled_lsvc,LinearSVC()),param_grid=param_lsvc,\n",
    "                           cv=KFold(shuffle=True))\n",
    "    gs_lr = GridSearchCV(estimator=make_pipeline(preprocess,LogisticRegression()),param_grid=param_lr,\n",
    "                         cv=KFold(shuffle=True))\n",
    "    gs_nc = GridSearchCV(estimator=make_pipeline(preprocess,NearestCentroid()),\n",
    "                         param_grid=param_nc)\n",
    "    gs_lsvc.fit(X_train,y_train)\n",
    "    gs_lr.fit(X_train,y_train)\n",
    "    gs_nc.fit(X_train,y_train)\n"
   ]
  },
  {
   "cell_type": "code",
   "execution_count": 50,
   "metadata": {},
   "outputs": [
    {
     "name": "stdout",
     "output_type": "stream",
     "text": [
      "{'linearsvc__C': 0.001}\n",
      "0.8014009844755774\n",
      "{'logisticregression__C': 0.01}\n",
      "0.8034835289663006\n",
      "{'nearestcentroid__shrink_threshold': 1}\n",
      "0.7321090496024233\n"
     ]
    }
   ],
   "source": [
    "print(gs_lsvc.best_params_)\n",
    "print(gs_lsvc.best_score_)\n",
    "print(gs_lr.best_params_)\n",
    "print(gs_lr.best_score_)\n",
    "print(gs_nc.best_params_)\n",
    "print(gs_nc.best_score_)"
   ]
  },
  {
   "cell_type": "markdown",
   "metadata": {},
   "source": [
    "The hyperparameters do change on applying kfold with shuffling. Linear SVC's parameter was 1 previously and now it is 0.001. Similarly for logistic regression it was 1 and now it is 0.01. For nearest centroid, the shrinkage parameter did not change."
   ]
  },
  {
   "cell_type": "markdown",
   "metadata": {},
   "source": [
    "The following code changes the random state of kfold."
   ]
  },
  {
   "cell_type": "code",
   "execution_count": 60,
   "metadata": {},
   "outputs": [],
   "source": [
    "from sklearn.model_selection import KFold\n",
    "import numpy as np\n",
    "from sklearn.svm import SVC\n",
    "\n",
    "with warnings.catch_warnings():\n",
    "    warnings.simplefilter(\"ignore\")\n",
    "    #X_train, X_test, y_train, y_test = train_test_split(data_x, data_y,random_state=123)\n",
    "    categorical = X_train.dtypes == object\n",
    "    pipe_cont = make_pipeline(SimpleImputer(strategy='mean'),\n",
    "                                         (StandardScaler()))\n",
    "    scaled_lsvc = make_column_transformer((pipe_cont, ~categorical),\n",
    "                                          (OneHotEncoder(handle_unknown='ignore'),categorical),\n",
    "                                         remainder='passthrough')\n",
    "    param_lsvc = {'linearsvc__C': np.logspace(-3, 2, 6)}\n",
    "    param_lr = {'logisticregression__C': [0.001, 0.01, 0.1, 1, 10, 100, 1000] }\n",
    "    param_nc = {'nearestcentroid__shrink_threshold':[1,10,100,1000]}\n",
    "    \n",
    "    gs_lsvc = GridSearchCV(estimator=make_pipeline(scaled_lsvc,LinearSVC()),param_grid=param_lsvc,\n",
    "                           cv=KFold(shuffle=True,random_state=202))\n",
    "    gs_lr = GridSearchCV(estimator=make_pipeline(preprocess,LogisticRegression()),param_grid=param_lr,\n",
    "                         cv=KFold(shuffle=True,random_state=202))\n",
    "    gs_nc = GridSearchCV(estimator=make_pipeline(preprocess,NearestCentroid()),\n",
    "                         cv=KFold(shuffle=True,random_state=202),\n",
    "                         param_grid=param_nc)\n",
    "    gs_lsvc.fit(X_train,y_train)\n",
    "    gs_lr.fit(X_train,y_train)\n",
    "    gs_nc.fit(X_train,y_train)\n",
    "    \n"
   ]
  },
  {
   "cell_type": "code",
   "execution_count": 61,
   "metadata": {},
   "outputs": [
    {
     "name": "stdout",
     "output_type": "stream",
     "text": [
      "{'linearsvc__C': 0.1}\n",
      "0.8074592957213177\n",
      "{'logisticregression__C': 1}\n",
      "0.811056418023476\n",
      "{'nearestcentroid__shrink_threshold': 100}\n",
      "0.738356683074593\n"
     ]
    }
   ],
   "source": [
    "print(gs_lsvc.best_params_)\n",
    "print(gs_lsvc.best_score_)\n",
    "print(gs_lr.best_params_)\n",
    "print(gs_lr.best_score_)\n",
    "print(gs_nc.best_params_)\n",
    "print(gs_nc.best_score_)"
   ]
  },
  {
   "cell_type": "markdown",
   "metadata": {},
   "source": [
    "Different random states give different results. Random state of 400 gives:\n",
    "\n",
    "LinearSVC = 0.01, Logistic regression = 0.1, Nearest centroid = 100\n",
    "\n",
    "Random state of 202 gives:\n",
    "\n",
    "LinearSVC = 0.1, Logistic regression = 1, Nearest centroid = 100"
   ]
  },
  {
   "cell_type": "code",
   "execution_count": 64,
   "metadata": {},
   "outputs": [],
   "source": [
    "from sklearn.model_selection import KFold\n",
    "import numpy as np\n",
    "from sklearn.svm import SVC\n",
    "\n",
    "with warnings.catch_warnings():\n",
    "    warnings.simplefilter(\"ignore\")\n",
    "    X_train, X_test, y_train, y_test = train_test_split(data_x, data_y,random_state=150)\n",
    "    categorical = X_train.dtypes == object\n",
    "    pipe_cont = make_pipeline(SimpleImputer(strategy='mean'),\n",
    "                                         (StandardScaler()))\n",
    "    scaled_lsvc = make_column_transformer((pipe_cont, ~categorical),\n",
    "                                          (OneHotEncoder(handle_unknown='ignore'),categorical),\n",
    "                                         remainder='passthrough')\n",
    "    param_lsvc = {'linearsvc__C': np.logspace(-3, 2, 6)}\n",
    "    param_lr = {'logisticregression__C': [0.001, 0.01, 0.1, 1, 10, 100, 1000] }\n",
    "    param_nc = {'nearestcentroid__shrink_threshold':[1,10,100,1000]}\n",
    "    \n",
    "    gs_lsvc = GridSearchCV(estimator=make_pipeline(scaled_lsvc,LinearSVC()),param_grid=param_lsvc,\n",
    "                           cv=KFold(shuffle=True))\n",
    "    gs_lr = GridSearchCV(estimator=make_pipeline(preprocess,LogisticRegression()),param_grid=param_lr,\n",
    "                         cv=KFold(shuffle=True))\n",
    "    gs_nc = GridSearchCV(estimator=make_pipeline(preprocess,NearestCentroid()),\n",
    "                         cv=KFold(shuffle=True),\n",
    "                         param_grid=param_nc)\n",
    "    gs_lsvc.fit(X_train,y_train)\n",
    "    gs_lr.fit(X_train,y_train)\n",
    "    gs_nc.fit(X_train,y_train)\n"
   ]
  },
  {
   "cell_type": "code",
   "execution_count": 65,
   "metadata": {},
   "outputs": [
    {
     "name": "stdout",
     "output_type": "stream",
     "text": [
      "{'linearsvc__C': 1.0}\n",
      "0.7970465732677017\n",
      "{'logisticregression__C': 10}\n",
      "0.7962892843619841\n",
      "{'nearestcentroid__shrink_threshold': 100}\n",
      "0.7298371828852708\n"
     ]
    }
   ],
   "source": [
    "print(gs_lsvc.best_params_)\n",
    "print(gs_lsvc.best_score_)\n",
    "print(gs_lr.best_params_)\n",
    "print(gs_lr.best_score_)\n",
    "print(gs_nc.best_params_)\n",
    "print(gs_nc.best_score_)"
   ]
  },
  {
   "cell_type": "markdown",
   "metadata": {},
   "source": [
    "Changing random state of the train test split also changes the hyperparameters. A state of 200 gives:\n",
    "\n",
    "LinearSVC = 0.001, Logistic regression = 10, Nearest centroid = 100\n",
    "\n",
    "A state of 150 gives:\n",
    "\n",
    "LinearSVC = 1, Logistic regression = 10, Nearest centroid = 100\n",
    "\n",
    "It is to be noted that the random state change brings about a change only in the hyperparameters, however the performance remains the same for the models."
   ]
  }
 ],
 "metadata": {
  "kernelspec": {
   "display_name": "Python 3",
   "language": "python",
   "name": "python3"
  },
  "language_info": {
   "codemirror_mode": {
    "name": "ipython",
    "version": 3
   },
   "file_extension": ".py",
   "mimetype": "text/x-python",
   "name": "python",
   "nbconvert_exporter": "python",
   "pygments_lexer": "ipython3",
   "version": "3.7.1"
  }
 },
 "nbformat": 4,
 "nbformat_minor": 2
}
